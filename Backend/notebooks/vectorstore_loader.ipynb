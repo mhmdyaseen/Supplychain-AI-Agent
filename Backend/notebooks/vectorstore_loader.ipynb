{
 "cells": [
  {
   "cell_type": "code",
   "execution_count": 4,
   "metadata": {},
   "outputs": [],
   "source": [
    "from langchain_community.document_loaders import PyPDFLoader\n",
    "from langchain_core.documents import Document\n",
    "from langchain.text_splitter import RecursiveCharacterTextSplitter\n",
    "from langchain_google_genai import GoogleGenerativeAIEmbeddings\n",
    "from langchain_chroma import Chroma\n",
    "from dotenv import load_dotenv\n",
    "from typing import List\n",
    "import time\n",
    "import os\n",
    "\n",
    "load_dotenv()\n",
    "base_url = os.getenv(\"BASE_URL\")\n",
    "api_key= os.getenv(\"API_KEY\")\n",
    "google_api_key = os.getenv(\"GOOGLE_API_KEY\")"
   ]
  },
  {
   "cell_type": "code",
   "execution_count": 5,
   "metadata": {},
   "outputs": [],
   "source": [
    "embeddings = GoogleGenerativeAIEmbeddings(\n",
    "    google_api_key=google_api_key,\n",
    "    model='models/embedding-001'\n",
    ")"
   ]
  },
  {
   "cell_type": "code",
   "execution_count": 3,
   "metadata": {},
   "outputs": [],
   "source": [
    "text_splitter = RecursiveCharacterTextSplitter(\n",
    "    chunk_size=1000,\n",
    "    chunk_overlap=600,\n",
    "    length_function=len,\n",
    "    add_start_index=True\n",
    ")"
   ]
  },
  {
   "cell_type": "code",
   "execution_count": 4,
   "metadata": {},
   "outputs": [],
   "source": [
    "PATH=\"./DataCo Global Policy Dataset\""
   ]
  },
  {
   "cell_type": "code",
   "execution_count": 5,
   "metadata": {},
   "outputs": [],
   "source": [
    "def load_pdf(filename: str) -> List[Document]:\n",
    "    \"\"\"Load all PDF files from a given directory.\"\"\"\n",
    "    PATH=\"./DataCo Global Policy Dataset\"\n",
    "    documents = []\n",
    "    if filename.endswith(\".pdf\"):\n",
    "        loader = PyPDFLoader(os.path.join(PATH, filename))\n",
    "        documents.extend(loader.load())\n",
    "    return documents "
   ]
  },
  {
   "cell_type": "code",
   "execution_count": 6,
   "metadata": {},
   "outputs": [],
   "source": [
    "def load_pdfs_from_directory(directory: str) -> List[Document]:\n",
    "    for pdf_file in os.listdir(directory):\n",
    "        documents = []\n",
    "        if not pdf_file.endswith(\".pdf\"):\n",
    "            continue\n",
    "        documents.extend(load_pdf(pdf_file))\n",
    "        name,_ = os.path.splitext(pdf_file)\n",
    "        # Split the documents into chunks\n",
    "        collection=Chroma(collection_name=name.replace(' ','-'),persist_directory='./chroma_db',embedding_function=embeddings)\n",
    "        chunk_documents = text_splitter.split_documents(documents)\n",
    "        collection.add_documents(chunk_documents)\n",
    "        print(f\"Added {len(documents)} documents to collection '{name}'\")"
   ]
  },
  {
   "cell_type": "code",
   "execution_count": null,
   "metadata": {},
   "outputs": [
    {
     "name": "stdout",
     "output_type": "stream",
     "text": [
      "Added 5 documents to collection 'Anti-Counterfeit and Product Authenticity Policy'\n",
      "Added 2 documents to collection 'Circular Economy'\n",
      "Added 2 documents to collection 'COC'\n",
      "Added 4 documents to collection 'Communication and Crisis Management Policy for DataCo Global'\n",
      "Added 2 documents to collection 'Continuous Improvement'\n",
      "Added 2 documents to collection 'Cost Reduction'\n",
      "Added 2 documents to collection 'Data Security'\n",
      "Added 4 documents to collection 'DataCo Global Capacity Planning Policy'\n",
      "Added 3 documents to collection 'Dataco Global Change Management Policy for Supply Chain Processes'\n",
      "Added 4 documents to collection 'DataCo Global Contract Management and Negotiation Policy'\n",
      "Added 4 documents to collection 'Dataco Global Order Management Policy'\n",
      "Added 4 documents to collection 'Dataco Global Transportation and Logistics Policy'\n",
      "Added 4 documents to collection 'DataCo Global Warehouse and Storage Policy'\n",
      "Added 4 documents to collection 'Dataco Global_ Demand Forecasting and Planning Policy'\n",
      "Added 4 documents to collection 'Diversity and Inclusion in Supplier Base Policy for DataCo Global'\n",
      "Added 2 documents to collection 'Environmental Sustainability'\n",
      "Added 3 documents to collection 'Global Business Continuity'\n",
      "Added 2 documents to collection 'Global Returns'\n",
      "Added 4 documents to collection 'Health Safety and Environment Policy for Supply Chain Management'\n",
      "Added 3 documents to collection 'Inventory'\n",
      "Added 2 documents to collection 'IOT'\n",
      "Added 2 documents to collection 'KPI'\n",
      "Added 2 documents to collection 'Labor Standards'\n",
      "Added 5 documents to collection 'Obsolete Inventory Handling Policy for Dataco Global'\n",
      "Added 2 documents to collection 'Quality Assurance and Control Policy'\n",
      "Added 2 documents to collection 'Risk Management'\n",
      "Added 4 documents to collection 'Sourcing and Procurement Policy for DataCo Global'\n",
      "Added 2 documents to collection 'SRM'\n",
      "Added 3 documents to collection 'Supplier Selection'\n",
      "Added 3 documents to collection 'Trade Compliance'\n"
     ]
    }
   ],
   "source": [
    "# load_pdfs_from_directory(PATH)"
   ]
  },
  {
   "cell_type": "code",
   "execution_count": null,
   "metadata": {},
   "outputs": [],
   "source": [
    "from langchain_chroma import Chroma\n",
    "\n",
    "def retriever_tool(query:str,collection_name:str) -> str:\n",
    "    db=Chroma(collection_name=collection_name,persist_directory='./chroma_db',embedding_function=embeddings)\n",
    "    results=db.search(query,search_type='similarity',k=3)\n",
    "    content=''\n",
    "    for result in results:\n",
    "        content+=result.page_content\n",
    "    return content"
   ]
  },
  {
   "cell_type": "code",
   "execution_count": 7,
   "metadata": {},
   "outputs": [],
   "source": [
    "result=retriever_tool(\"Tell me the purpose of data global adoption policy\",collection_name=\"Circular-Economy\")"
   ]
  },
  {
   "cell_type": "code",
   "execution_count": 21,
   "metadata": {},
   "outputs": [
    {
     "name": "stdout",
     "output_type": "stream",
     "text": [
      "Dataco Global Technology Adoption Policy\n",
      "Purpose\n",
      "This policy establishes clear standards for the adoption and management of emerging technologies\n",
      "(including Internet of Things (IoT), Blockchain, and related innovations) within Dataco Global. It\n",
      "ensures all technology use aligns with company objectives, emphasizes security, safeguards data,\n",
      "and supports operational excellence through measurable controls and responsibilities.\n",
      "Scope\n",
      "This policy applies to all employees, contractors, partners, and third-party service providers\n",
      "involved in the selection, deployment, management, and operation of IoT, Blockchain, and similar\n",
      "technologies within Dataco Globalʼs business processes.\n",
      "1. Technology Evaluation and Approval\n",
      "All new technology projects must undergo a standardized evaluation, including risk\n",
      "assessment and Return on Investment (ROI) analysis, before approval.\n",
      "A minimum of two formal pilot tests, each covering at least 10% of the relevant operationalScope\n",
      "This policy applies to all employees, contractors, partners, and third-party service providers\n",
      "involved in the selection, deployment, management, and operation of IoT, Blockchain, and similar\n",
      "technologies within Dataco Globalʼs business processes.\n",
      "1. Technology Evaluation and Approval\n",
      "All new technology projects must undergo a standardized evaluation, including risk\n",
      "assessment and Return on Investment (ROI) analysis, before approval.\n",
      "A minimum of two formal pilot tests, each covering at least 10% of the relevant operational\n",
      "environment, are required prior to full-scale deployment.\n",
      "The Technology Steering Committee (TSC) must approve any expenditure over $100,000 or\n",
      "any project impacting more than 25% of company data infrastructure.\n",
      "2. Data Governance and Protection\n",
      "Data collected or generated by IoT devices and Blockchain applications must be classified\n",
      "according to Dataco Globalʼs data governance standards (confidential, internal, public).assessment and Return on Investment (ROI) analysis, before approval.\n",
      "A minimum of two formal pilot tests, each covering at least 10% of the relevant operational\n",
      "environment, are required prior to full-scale deployment.\n",
      "The Technology Steering Committee (TSC) must approve any expenditure over $100,000 or\n",
      "any project impacting more than 25% of company data infrastructure.\n",
      "2. Data Governance and Protection\n",
      "Data collected or generated by IoT devices and Blockchain applications must be classified\n",
      "according to Dataco Globalʼs data governance standards (confidential, internal, public).\n",
      "Only authorized personnel (not exceeding 20% of departmental staff per project) may access\n",
      "sensitive or confidential data[4].\n",
      "Encryption must be applied to all data transmissions involving IoT devices and Blockchain\n",
      "transactions.\n",
      "All data must be retained only as long as necessary for business or regulatory requirements,\n",
      "with quarterly reviews to ensure compliance[5].\n"
     ]
    }
   ],
   "source": [
    "print(result)"
   ]
  }
 ],
 "metadata": {
  "kernelspec": {
   "display_name": ".venv",
   "language": "python",
   "name": "python3"
  },
  "language_info": {
   "codemirror_mode": {
    "name": "ipython",
    "version": 3
   },
   "file_extension": ".py",
   "mimetype": "text/x-python",
   "name": "python",
   "nbconvert_exporter": "python",
   "pygments_lexer": "ipython3",
   "version": "3.13.3"
  }
 },
 "nbformat": 4,
 "nbformat_minor": 2
}
