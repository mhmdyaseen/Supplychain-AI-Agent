{
 "cells": [
  {
   "cell_type": "code",
   "execution_count": null,
   "id": "6a13cbad",
   "metadata": {},
   "outputs": [
    {
     "name": "stdout",
     "output_type": "stream",
     "text": [
      "Detected encoding: ISO-8859-1\n"
     ]
    }
   ],
   "source": [
    "# import chardet\n",
    "\n",
    "# # Step 1: Detect original encoding\n",
    "# with open(\"DataCoSupplyChainDataset.csv\", \"rb\") as raw_file:\n",
    "#     result = chardet.detect(raw_file.read(10000))\n",
    "#     print(f\"Detected encoding: {result['encoding']}\")\n",
    "\n",
    "# # Step 2: Convert to UTF-8\n",
    "# with open(\"DataCoSupplyChainDataset.csv\", \"r\", encoding=result['encoding']) as source:\n",
    "#     with open(\"DataCoSupplyChainDataset_UTF8.csv\", \"w\", encoding=\"utf-8\") as target:\n",
    "#         target.write(source.read())\n"
   ]
  },
  {
   "cell_type": "code",
   "execution_count": 1,
   "id": "77c3fdd0",
   "metadata": {},
   "outputs": [
    {
     "name": "stdout",
     "output_type": "stream",
     "text": [
      "[('DEBIT', 3, 4, 91.25, 314.6400146, 'Advance shipping', 0, 73, 'Sporting Goods', 'Caguas', 'Puerto Rico', 'XXXXXXXXX', 'Cally', 20755, 'Holloway', 'XXXXXXXXX', 'Consumer', 'PR', '5365 Noble Nectar Island', 725, 2, 'Fitness', 18.2514534, -66.03705597, 'Pacific Asia', 'Bekasi', 'Indonesia', 20755, '1/31/2018 22:56', 77202, 1360, 13.10999966, 0.039999999, 180517, 327.75, 0.289999992, 1, 327.75, 314.6400146, 91.25, 'Southeast Asia', 'Java Occidental', 'COMPLETE', None, 1360, 73, None, 'http://images.acmesports.sports/Smart+watch ', 'Smart watch ', 327.75, 0, '2/3/2018 22:56', 'Standard Class'), ('TRANSFER', 5, 4, -249.0899963, 311.3599854, 'Late delivery', 1, 73, 'Sporting Goods', 'Caguas', 'Puerto Rico', 'XXXXXXXXX', 'Irene', 19492, 'Luna', 'XXXXXXXXX', 'Consumer', 'PR', '2679 Rustic Loop', 725, 2, 'Fitness', 18.27945137, -66.0370636, 'Pacific Asia', 'Bikaner', 'India', 19492, '1/13/2018 12:27', 75939, 1360, 16.38999939, 0.050000001, 179254, 327.75, -0.800000012, 1, 327.75, 311.3599854, -249.0899963, 'South Asia', 'Rajastán', 'PENDING', None, 1360, 73, None, 'http://images.acmesports.sports/Smart+watch ', 'Smart watch ', 327.75, 0, '1/18/2018 12:27', 'Standard Class'), ('CASH', 4, 4, -247.7799988, 309.7200012, 'Shipping on time', 0, 73, 'Sporting Goods', 'San Jose', 'EE. UU.', 'XXXXXXXXX', 'Gillian', 19491, 'Maldonado', 'XXXXXXXXX', 'Consumer', 'CA', '8510 Round Bear Gate', 95125, 2, 'Fitness', 37.29223251, -121.881279, 'Pacific Asia', 'Bikaner', 'India', 19491, '1/13/2018 12:06', 75938, 1360, 18.03000069, 0.059999999, 179253, 327.75, -0.800000012, 1, 327.75, 309.7200012, -247.7799988, 'South Asia', 'Rajastán', 'CLOSED', None, 1360, 73, None, 'http://images.acmesports.sports/Smart+watch ', 'Smart watch ', 327.75, 0, '1/17/2018 12:06', 'Standard Class'), ('DEBIT', 3, 4, 22.86000061, 304.8099976, 'Advance shipping', 0, 73, 'Sporting Goods', 'Los Angeles', 'EE. UU.', 'XXXXXXXXX', 'Tana', 19490, 'Tate', 'XXXXXXXXX', 'Home Office', 'CA', '3200 Amber Bend', 90027, 2, 'Fitness', 34.12594605, -118.2910156, 'Pacific Asia', 'Townsville', 'Australia', 19490, '1/13/2018 11:45', 75937, 1360, 22.94000053, 0.07, 179252, 327.75, 0.079999998, 1, 327.75, 304.8099976, 22.86000061, 'Oceania', 'Queensland', 'COMPLETE', None, 1360, 73, None, 'http://images.acmesports.sports/Smart+watch ', 'Smart watch ', 327.75, 0, '1/16/2018 11:45', 'Standard Class'), ('PAYMENT', 2, 4, 134.2100067, 298.25, 'Advance shipping', 0, 73, 'Sporting Goods', 'Caguas', 'Puerto Rico', 'XXXXXXXXX', 'Orli', 19489, 'Hendricks', 'XXXXXXXXX', 'Corporate', 'PR', '8671 Iron Anchor Corners', 725, 2, 'Fitness', 18.25376892, -66.03704834, 'Pacific Asia', 'Townsville', 'Australia', 19489, '1/13/2018 11:24', 75936, 1360, 29.5, 0.090000004, 179251, 327.75, 0.449999988, 1, 327.75, 298.25, 134.2100067, 'Oceania', 'Queensland', 'PENDING_PAYMENT', None, 1360, 73, None, 'http://images.acmesports.sports/Smart+watch ', 'Smart watch ', 327.75, 0, '1/15/2018 11:24', 'Standard Class')]\n"
     ]
    }
   ],
   "source": [
    "import duckdb\n",
    "con = duckdb.connect(\"database.duckdb\")\n",
    "con.execute(\"\"\"\n",
    "    CREATE TABLE SupplyChain AS \n",
    "    SELECT * FROM read_csv_auto('./DataCoSupplyChainDataset.csv',AUTO_DETECT=TRUE, ENCODING='utf-8')\n",
    "\"\"\")\n",
    "\n",
    "# Verify table content (optional)\n",
    "result = con.execute(\"SELECT * FROM SupplyChain LIMIT 5\").fetchall()\n",
    "print(result)\n",
    "\n",
    "# Close connection\n",
    "con.close()\n"
   ]
  },
  {
   "cell_type": "code",
   "execution_count": 2,
   "id": "b10c1278",
   "metadata": {},
   "outputs": [
    {
     "data": {
      "text/plain": [
       "[(180519,)]"
      ]
     },
     "execution_count": 2,
     "metadata": {},
     "output_type": "execute_result"
    }
   ],
   "source": [
    "con = duckdb.connect(\"database.duckdb\")\n",
    "con.execute(\"Select count(*) from SupplyChain\").fetchall()"
   ]
  }
 ],
 "metadata": {
  "kernelspec": {
   "display_name": ".venv",
   "language": "python",
   "name": "python3"
  },
  "language_info": {
   "codemirror_mode": {
    "name": "ipython",
    "version": 3
   },
   "file_extension": ".py",
   "mimetype": "text/x-python",
   "name": "python",
   "nbconvert_exporter": "python",
   "pygments_lexer": "ipython3",
   "version": "3.13.3"
  }
 },
 "nbformat": 4,
 "nbformat_minor": 5
}
